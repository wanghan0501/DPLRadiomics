{
 "cells": [
  {
   "cell_type": "code",
   "execution_count": 1,
   "metadata": {},
   "outputs": [],
   "source": [
    "import sys\n",
    "\n",
    "sys.path.append('../..')"
   ]
  },
  {
   "cell_type": "code",
   "execution_count": 2,
   "metadata": {},
   "outputs": [],
   "source": [
    "import copy\n",
    "import os\n",
    "import random\n",
    "from glob import glob\n",
    "from os.path import join\n",
    "\n",
    "import cv2\n",
    "import matplotlib as mpl\n",
    "import matplotlib.pyplot as plt\n",
    "import numpy as np\n",
    "import pandas as pd\n",
    "import pydicom\n",
    "import SimpleITK as sitk\n",
    "import torch\n",
    "from scipy.ndimage.interpolation import zoom\n",
    "from torchvision.transforms import Compose\n",
    "from tqdm import tqdm\n",
    "\n",
    "from datasets.crc.crc_dataset_3d import CRCDataset3D\n",
    "from datasets.crc.transforms import crc_transforms_3d as crcT3D\n",
    "from nets.ae.auto_encoder import AutoEncoder\n",
    "from nets.seg.res_unet3d import ResUNet3D\n",
    "from utils.parse_util import format_config, parse_yaml\n",
    "\n",
    "%matplotlib inline"
   ]
  },
  {
   "cell_type": "code",
   "execution_count": 3,
   "metadata": {},
   "outputs": [],
   "source": [
    "device = 'cuda:0'\n",
    "\n",
    "crc_ckpt = torch.load(\n",
    "    '/root/workspace/DCH_AI/ckpts/crc_ae/v_ae_latent_size.512_amcm.64_leakyrelu/46.pth',\n",
    "    map_location=device)\n",
    "crc_net = AutoEncoder(color_channels=1,\n",
    "                      image_size=np.array([64, 80, 80]),\n",
    "                      latent_size=512,\n",
    "                      amcm=64)\n",
    "crc_net.load_state_dict(crc_ckpt)\n",
    "crc_net = crc_net.eval().to(device)"
   ]
  },
  {
   "cell_type": "code",
   "execution_count": 4,
   "metadata": {
    "code_folding": []
   },
   "outputs": [
    {
     "name": "stdout",
     "output_type": "stream",
     "text": [
      ">>> The number of records is 480\n"
     ]
    }
   ],
   "source": [
    "trans = Compose([\n",
    "    crcT3D.Resize([64, 80, 80]),\n",
    "    crcT3D.Normalize(mean=128, std=128),\n",
    "    crcT3D.ToTensor()\n",
    "])\n",
    "\n",
    "dataset = CRCDataset3D(\n",
    "    data_root='/root/workspace/DCH_AI/data_crc_3d/',\n",
    "    sample_csv='/root/workspace/DCH_AI/records/crc/v_crc_labels.csv',\n",
    "    transforms=trans)"
   ]
  },
  {
   "cell_type": "code",
   "execution_count": 5,
   "metadata": {
    "scrolled": true
   },
   "outputs": [],
   "source": [
    "f_list = []\n",
    "with torch.no_grad():\n",
    "    for idx in range(len(dataset)):\n",
    "        sample = dataset.__getitem__(idx)\n",
    "        img = sample['image'].to(device)\n",
    "        x, z = crc_net(img.unsqueeze(0), is_z=True)\n",
    "        sample_id = dataset.records.iloc[idx].sample_id\n",
    "        f_list.append([sample_id] +\n",
    "                      z.flatten().detach().cpu().numpy().tolist())\n",
    "        f_pd = pd.DataFrame(f_list)\n",
    "f_pd.to_excel('autoencoder_v_crc_features_leakyrelu.xlsx', index=False, header=False)"
   ]
  },
  {
   "cell_type": "code",
   "execution_count": null,
   "metadata": {},
   "outputs": [],
   "source": []
  }
 ],
 "metadata": {
  "kernelspec": {
   "display_name": "Python 3 (ipykernel)",
   "language": "python",
   "name": "python3"
  },
  "language_info": {
   "codemirror_mode": {
    "name": "ipython",
    "version": 3
   },
   "file_extension": ".py",
   "mimetype": "text/x-python",
   "name": "python",
   "nbconvert_exporter": "python",
   "pygments_lexer": "ipython3",
   "version": "3.8.11"
  }
 },
 "nbformat": 4,
 "nbformat_minor": 4
}
